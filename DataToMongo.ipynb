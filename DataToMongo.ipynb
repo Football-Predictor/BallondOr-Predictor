{
 "cells": [
  {
   "attachments": {},
   "cell_type": "markdown",
   "metadata": {},
   "source": [
    "- [1 Import Dependencies](#dependencies)\n",
    "- [2 Import Dependencies](#setup)\n",
    "\n",
    "---"
   ]
  },
  {
   "attachments": {},
   "cell_type": "markdown",
   "metadata": {},
   "source": [
    "# • 1 Import Dependencies\n",
    "<a id='dependencies'></a>\n"
   ]
  },
  {
   "cell_type": "code",
   "execution_count": null,
   "metadata": {},
   "outputs": [],
   "source": [
    "import os\n",
    "import sys\n",
    "from urllib.parse import urljoin\n",
    "\n",
    "import numpy as np\n",
    "import pandas as pd\n",
    "import pymongo\n",
    "from bs4 import BeautifulSoup"
   ]
  },
  {
   "attachments": {},
   "cell_type": "markdown",
   "metadata": {},
   "source": [
    "# • 2 Set-up MongoDB Agent\n",
    "<a id='setup'></a>"
   ]
  },
  {
   "cell_type": "code",
   "execution_count": null,
   "metadata": {},
   "outputs": [],
   "source": [
    "class MongoDBAgent:\n",
    "\n",
    "    def __init__(self, con_string: str, db: str):\n",
    "        self.__client = pymongo.MongoClient(con_string)\n",
    "        self.__db = self.__client[db]\n",
    "        self.__connect_db()\n",
    "\n",
    "\n",
    "    def __connect_db(self):\n",
    "        self.__client.server_info()\n",
    "\n",
    "\n",
    "    def find(self, collection_str: str, query: dict, count=False):\n",
    "        collection = self.__db[collection_str]\n",
    "        documents = collection.find(query)\n",
    "        if count: return collection.count_documents(query)\n",
    "        if collection.count_documents(query) == 0: return None\n",
    "        return documents\n",
    "\n",
    "\n",
    "    def insert_one(self, collection_str: str, data: dict):\n",
    "        collection = self.__db[collection_str]\n",
    "        return_statement = collection.insert_one(data)\n",
    "\n",
    "\n",
    "    def update_one(self, collection_str: str, filter: dict, data):\n",
    "        collection = self.__db[collection_str]\n",
    "        collection.update_one(filter=filter, update=data) "
   ]
  }
 ],
 "metadata": {
  "kernelspec": {
   "display_name": "Python 3",
   "language": "python",
   "name": "python3"
  },
  "language_info": {
   "codemirror_mode": {
    "name": "ipython",
    "version": 3
   },
   "file_extension": ".py",
   "mimetype": "text/x-python",
   "name": "python",
   "nbconvert_exporter": "python",
   "pygments_lexer": "ipython3",
   "version": "3.10.8"
  },
  "orig_nbformat": 4
 },
 "nbformat": 4,
 "nbformat_minor": 2
}
